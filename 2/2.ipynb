{
 "cells": [
  {
   "cell_type": "code",
   "execution_count": 1,
   "metadata": {},
   "outputs": [],
   "source": [
    "# task 2: base64 coding"
   ]
  },
  {
   "cell_type": "code",
   "execution_count": 2,
   "metadata": {},
   "outputs": [
    {
     "name": "stdout",
     "output_type": "stream",
     "text": [
      "Bag End先生的Bilbo Baggins先生宣布，他不久將以特別的輝煌的聚會慶祝他的第二十一歲\n",
      "\u0000\u0000\u0000\u0000\u0000\u0000\u0000\u0000\u0000\u0000\u0000\u0000\u0000\u0000\u0000\u0000\u0000\u0000\u0000\u0000\u0000\u0000\u0000\u0000\u0000\u0000\u0000\u0000\u0000\u0000\u0000\u0000\u0000\u0000\u0000\u0000\u0000\u0000\u0000\u0000生日，霍比頓人的話\n"
     ]
    }
   ],
   "source": [
    "given_text = open('2.tmp', 'r').read()\n",
    "print(given_text[:100])"
   ]
  },
  {
   "cell_type": "code",
   "execution_count": 3,
   "metadata": {},
   "outputs": [],
   "source": [
    "base64chars = list('ABCDEFGHIJKLMNOPQRSTUVWXYZabcdefghijklmnopqrstuvwxyz0123456789+/')\n",
    "base64inv = dict((base64chars[i], i) for i in range(len(base64chars)))"
   ]
  },
  {
   "cell_type": "code",
   "execution_count": 4,
   "metadata": {},
   "outputs": [],
   "source": [
    "class Base64Coder:\n",
    "    \n",
    "    @staticmethod\n",
    "    def encode(text):\n",
    "        def add_zeros(s):\n",
    "            s = '0'*(8 - len(s)) + s\n",
    "            return s\n",
    "\n",
    "        bytes_ = given_text.encode(encoding='utf-8')\n",
    "        bits = ''.join(list(map(lambda x: add_zeros(bin(x)[2:]), bytes_)))\n",
    "        bits += ((6 - len(bits)%6) % 6) * '0'\n",
    "\n",
    "        encoded_ind = [int(bits[i:i+6], 2) for i in range(0, len(bits), 6)]\n",
    "        encoded = ''.join([base64chars[c] for c in encoded_ind])\n",
    "        return encoded\n",
    "\n",
    "    @staticmethod\n",
    "    def decode(text):\n",
    "        def add_zeros(s):\n",
    "            s = '0'*(6 - len(s)) + s\n",
    "            return s\n",
    "\n",
    "        encoded_ind = [add_zeros(bin(int(base64inv[c]))[2:]) for c in text]\n",
    "        bits = ''.join(encoded_ind)\n",
    "        to_cut = len(bits) % 8\n",
    "\n",
    "        if (to_cut > 0):\n",
    "            bits = bits[:-to_cut]\n",
    "\n",
    "        groups = [int(bits[i:i+8], 2) for i in range (0, len(bits), 8)]\n",
    "        return bytes(groups).decode('utf-8')"
   ]
  },
  {
   "cell_type": "code",
   "execution_count": 5,
   "metadata": {
    "scrolled": true
   },
   "outputs": [
    {
     "name": "stdout",
     "output_type": "stream",
     "text": [
      "QmFnIEVuZOWFiOeUn+eahEJpbGJvIEJhZ2dpbnPlhYjnlJ/lrqPluIPvvIzku5bkuI3kuYXlsIfku6XnibnliKXnmoTovJ3nhYzn\n"
     ]
    }
   ],
   "source": [
    "encoded_given = Base64Coder.encode(given_text)\n",
    "print(encoded_given[:100])"
   ]
  },
  {
   "cell_type": "code",
   "execution_count": 6,
   "metadata": {},
   "outputs": [
    {
     "name": "stdout",
     "output_type": "stream",
     "text": [
      "Bag End先生的Bilbo Baggins先生宣布，他不久將以特別的輝煌的聚會慶祝他的第二十一歲\n",
      "\u0000\u0000\u0000\u0000\u0000\u0000\u0000\u0000\u0000\u0000\u0000\u0000\u0000\u0000\u0000\u0000\u0000\u0000\u0000\u0000\u0000\u0000\u0000\u0000\u0000\u0000\u0000\u0000\u0000\u0000\u0000\u0000\u0000\u0000\u0000\u0000\u0000\u0000\u0000\u0000生日，霍比頓人的話\n"
     ]
    }
   ],
   "source": [
    "decoded_back = Base64Coder.decode(encoded_given)\n",
    "print(decoded_back[:100])"
   ]
  },
  {
   "cell_type": "code",
   "execution_count": 7,
   "metadata": {},
   "outputs": [
    {
     "data": {
      "text/plain": [
       "True"
      ]
     },
     "execution_count": 7,
     "metadata": {},
     "output_type": "execute_result"
    }
   ],
   "source": [
    "decoded_back == given_text"
   ]
  },
  {
   "cell_type": "markdown",
   "metadata": {},
   "source": [
    "# Base64 comparison"
   ]
  },
  {
   "cell_type": "code",
   "execution_count": 24,
   "metadata": {},
   "outputs": [],
   "source": [
    "import base64, codecs"
   ]
  },
  {
   "cell_type": "code",
   "execution_count": 30,
   "metadata": {},
   "outputs": [],
   "source": [
    "encodedBase64 = base64.b64encode((codecs.encode(given_text, 'utf-8')))\n",
    "encodedBase64 = codecs.decode()"
   ]
  },
  {
   "cell_type": "code",
   "execution_count": 40,
   "metadata": {},
   "outputs": [
    {
     "data": {
      "text/plain": [
       "True"
      ]
     },
     "execution_count": 40,
     "metadata": {},
     "output_type": "execute_result"
    }
   ],
   "source": [
    "codecs.decode(encodedBase64[:100], 'ascii') == encoded_given[:100]"
   ]
  },
  {
   "cell_type": "code",
   "execution_count": 34,
   "metadata": {},
   "outputs": [
    {
     "data": {
      "text/plain": [
       "'QmFnIEVuZOWFiOeUn+eahEJpbGJvIEJhZ2dpbnPlhYjnlJ/lrqPluIPvvIzku5bkuI3kuYXlsIfku6XnibnliKXnmoTovJ3nhYzn'"
      ]
     },
     "execution_count": 34,
     "metadata": {},
     "output_type": "execute_result"
    }
   ],
   "source": [
    "encoded_given[:100]"
   ]
  },
  {
   "cell_type": "code",
   "execution_count": null,
   "metadata": {},
   "outputs": [],
   "source": []
  }
 ],
 "metadata": {
  "kernelspec": {
   "display_name": "Python 3.6",
   "language": "python",
   "name": "python3"
  },
  "language_info": {
   "codemirror_mode": {
    "name": "ipython",
    "version": 3
   },
   "file_extension": ".py",
   "mimetype": "text/x-python",
   "name": "python",
   "nbconvert_exporter": "python",
   "pygments_lexer": "ipython3",
   "version": "3.6.4"
  }
 },
 "nbformat": 4,
 "nbformat_minor": 2
}
