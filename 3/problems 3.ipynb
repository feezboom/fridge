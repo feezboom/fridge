{
 "cells": [
  {
   "cell_type": "markdown",
   "metadata": {},
   "source": [
    "# Задание 3\n",
    "### Часть 1. Magic functions"
   ]
  },
  {
   "cell_type": "markdown",
   "metadata": {},
   "source": [
    "#### CounterGetter (0.1 балл)\n",
    "Реализуйте класс CounterGetter, который на вход принимает произвольное количество именованых аргументов и считает количество обращений к полям и методам класса во всех экземплярах."
   ]
  },
  {
   "cell_type": "code",
   "execution_count": 1,
   "metadata": {},
   "outputs": [],
   "source": [
    "class CounterGetter:\n",
    "    calls = dict()\n",
    "    \n",
    "    def __init__(self):\n",
    "        pass\n",
    "    \n",
    "    def __getattribute__(self, name):\n",
    "        if name == 'calls':\n",
    "            return CounterGetter.calls\n",
    "        \n",
    "        if name in CounterGetter.calls:\n",
    "            CounterGetter.calls += 1\n",
    "        else:\n",
    "            CounterGetter.calls = 1\n",
    "        \n",
    "        return object.__getattribute__(self, name)\n",
    "        "
   ]
  },
  {
   "cell_type": "markdown",
   "metadata": {},
   "source": [
    "#### Vector (0.4 балла)"
   ]
  },
  {
   "cell_type": "markdown",
   "metadata": {},
   "source": [
    "Реализуйте класс вектор, который должен обладать следующими свойствами:\n",
    "* Над экземплярами выполняются арифметические операции (+-\\*/). Операции могут выполняться как с числами, так и с векторами. Если второй операнд вектор, то верните их скалярное произведение, если число, выполните поэлементное действие.\n",
    "* Реализуйте доступ к элементам вектора по индексам:\n",
    "\n",
    "<code>vec = Vector(1, 2, 3)\n",
    "\n",
    "vec[0]</code>\n",
    "* Реализуйте умножение вектора на матрицу (Матрица задается двумерным списком).\n",
    "* Поддерживайте методы push_back, pop_back, insert.\n",
    "* Реализуйте поддержку функции len\n",
    "\n",
    "P. S. Запрещается использовать numpy и другие библиотеки по работе с векторами. Рекомендуется представлять элементы вектора как список."
   ]
  },
  {
   "cell_type": "code",
   "execution_count": 2,
   "metadata": {},
   "outputs": [],
   "source": [
    "import math\n",
    "from operator import add\n",
    "from numbers import Number\n",
    "\n",
    "class Vector():\n",
    "    def __init__(self, list_, *args):\n",
    "        self.data = []\n",
    "        if isinstance(list_, list):\n",
    "            self.data = list_\n",
    "        else:\n",
    "            self.data.append(list_)\n",
    "        \n",
    "        for x in args:\n",
    "            self.data.append(x)\n",
    "            \n",
    "        self.iter_idx = 0\n",
    "        \n",
    "    def __iter__(self):\n",
    "        return self\n",
    "    \n",
    "    def __next__(self):\n",
    "        self.iter_idx += 1\n",
    "        try:\n",
    "            return self.data[self.iter_idx-1]\n",
    "        except IndexError:\n",
    "            self.iter_idx = 0\n",
    "            raise StopIteration\n",
    "        \n",
    "    def __getitem__(self, idx):\n",
    "        return self.data[idx]\n",
    "    \n",
    "    def __setitem__(self, idx, val):\n",
    "        self.data[idx] = val\n",
    "        \n",
    "    def matrix_mult(self, matrix):\n",
    "        if len(matrix) != len(self.data):\n",
    "            raise ArithmeticError\n",
    "        \n",
    "        return Vector([Vector(col).dot(self) for col in list(map(list, zip(*matrix)))])\n",
    "    \n",
    "    def dot(self, other):\n",
    "        return sum(self*other)\n",
    "    \n",
    "    def push_back(element):\n",
    "        self.data.append(element)\n",
    "        \n",
    "    def __throw_arith_arg_exc__():\n",
    "        raise ValueError('Value should be number or Vector')\n",
    "        \n",
    "    def __add__(self, other):\n",
    "        if isinstance(other, Number):\n",
    "            return Vector([(x+other) for x in self.data])\n",
    "        elif isinstance(other, Vector):\n",
    "            return Vector([(x+y) for (x,y) in list(zip(self.data, other.data))])\n",
    "        else:\n",
    "            Vector.__throw_arith_arg_exc__()\n",
    "            \n",
    "    def __mul__(self, other):\n",
    "        if isinstance(other, Number):\n",
    "            return Vector([(x*other) for x in self.data])\n",
    "        elif isinstance(other, Vector):\n",
    "            return Vector([(x*y) for (x,y) in list(zip(self.data, other.data))])\n",
    "        else:\n",
    "            Vector.__throw_arith_arg_exc__()\n",
    "        \n",
    "    def __sub__(self, other):\n",
    "        if isinstance(other, Number):\n",
    "            return Vector([(x-other) for x in self.data])\n",
    "        elif isinstance(other, Vector):\n",
    "            return Vector([(x-y) for (x,y) in list(zip(self.data, other.data))])\n",
    "        else:\n",
    "            Vector.__throw_arith_arg_exc__()\n",
    "        \n",
    "    def __truediv__(self, other):\n",
    "        if isinstance(other, Number):\n",
    "            return Vector([(x/other) for x in self.data])\n",
    "        elif isinstance(other, Vector):\n",
    "            return Vector([(x/y) for (x,y) in list(zip(self.data, other.data))])\n",
    "        else:\n",
    "            Vector.__throw_arith_arg_exc__()\n",
    "    \n",
    "    def __str__(self):\n",
    "        return str(self.data)\n",
    "    \n",
    "    def __len__(self):\n",
    "        return len(self.data)\n",
    "    \n",
    "    def _repr_html_(self):\n",
    "        return '<h3>' + str(self) + '<h3>'\n",
    "        "
   ]
  },
  {
   "cell_type": "code",
   "execution_count": 3,
   "metadata": {},
   "outputs": [],
   "source": [
    "x = Vector(1,2,3,4,5,6,7,8,9)\n",
    "y  = Vector([9,8,7,6,5,4,3,2,1])"
   ]
  },
  {
   "cell_type": "code",
   "execution_count": 4,
   "metadata": {},
   "outputs": [
    {
     "name": "stdout",
     "output_type": "stream",
     "text": [
      "[10, 10, 10, 10, 10, 10, 10, 10, 10]\n",
      "[-8, -6, -4, -2, 0, 2, 4, 6, 8]\n",
      "[9, 16, 21, 24, 25, 24, 21, 16, 9]\n",
      "[0.1111111111111111, 0.25, 0.42857142857142855, 0.6666666666666666, 1.0, 1.5, 2.3333333333333335, 4.0, 9.0]\n",
      "165\n",
      "[11, 12, 13, 14, 15, 16, 17, 18, 19]\n"
     ]
    }
   ],
   "source": [
    "print(x+y)\n",
    "print(x-y)\n",
    "print(x*y)\n",
    "print(x/y)\n",
    "print(x.dot(y))\n",
    "print(x+10)"
   ]
  },
  {
   "cell_type": "code",
   "execution_count": 5,
   "metadata": {},
   "outputs": [
    {
     "name": "stdout",
     "output_type": "stream",
     "text": [
      "9 9\n"
     ]
    }
   ],
   "source": [
    "print(len(x), len(y))"
   ]
  },
  {
   "cell_type": "code",
   "execution_count": 6,
   "metadata": {},
   "outputs": [
    {
     "name": "stdout",
     "output_type": "stream",
     "text": [
      "[10, 10, 10]\n"
     ]
    }
   ],
   "source": [
    "matrix = [[1,1,1],[2,2,2],[3,3,3]]\n",
    "v = Vector([3,2,1])\n",
    "print(v.matrix_mult(matrix))"
   ]
  },
  {
   "cell_type": "code",
   "execution_count": 7,
   "metadata": {},
   "outputs": [
    {
     "name": "stdout",
     "output_type": "stream",
     "text": [
      "[3, 2, 1]\n",
      "[3, 5, 1]\n",
      "3\n"
     ]
    }
   ],
   "source": [
    "v[1] = 2\n",
    "print(v)\n",
    "v[1] = 5\n",
    "print(v)\n",
    "print(v[0])"
   ]
  },
  {
   "cell_type": "code",
   "execution_count": 8,
   "metadata": {},
   "outputs": [
    {
     "data": {
      "text/html": [
       "<h3>[1, 2, 3, 4, 5, 6, 7, 8, 9]<h3>"
      ],
      "text/plain": [
       "<__main__.Vector at 0x7efc10795f60>"
      ]
     },
     "execution_count": 8,
     "metadata": {},
     "output_type": "execute_result"
    }
   ],
   "source": [
    "x"
   ]
  },
  {
   "cell_type": "markdown",
   "metadata": {},
   "source": [
    "#### Table (0.5 баллов)"
   ]
  },
  {
   "cell_type": "markdown",
   "metadata": {},
   "source": [
    "Реализуйте класс для работы с таблицами. Класс должен обладать следующей функциональностью:\n",
    "\n",
    "* Таблица может задаваться как двумерным списком, так и читаться из файла. Если читается из файла, то должен быть указан разделитель.\n",
    "\n",
    "* Обладать возможностью задания названия колонок (по номеру, если не задано). Если читается из файла и задан параметр наличия именованных колонок, то первая строчка файла отвечает за названия колонок.\n",
    "\n",
    "* Реализуйте доступ к колонкам по названю и по индекс:\n",
    "\n",
    "<code>t = Table()\n",
    "\n",
    "t[\"index\"]</code>\n",
    "\n",
    "* Реализуйте функции head и tail, которые показывают заданное число строк с начала и с конца соответственно.\n",
    "* Реадизуйте методы unique и count, которые выводят все уникальные элементы для таблицы или для заданного столбца:\n",
    "\n",
    "<code>\n",
    "\n",
    "t[\"sex\"].unique()\n",
    "\n",
    "t.unique()\n",
    "\n",
    "</code>"
   ]
  },
  {
   "cell_type": "code",
   "execution_count": 9,
   "metadata": {},
   "outputs": [],
   "source": [
    "class Table:\n",
    "    class Column:\n",
    "        def __init__(self, values_list):\n",
    "            self.data = values_list\n",
    "    \n",
    "        def unique(self):\n",
    "            return list(set(self.data))\n",
    "        \n",
    "        def count(self):\n",
    "            return len(set(self.data))\n",
    "        \n",
    "        def __len__(self):\n",
    "            return len(self.data)\n",
    "        \n",
    "        def __getitem__(self, key):\n",
    "            return self.data[key]\n",
    "        \n",
    "        def toList(self):\n",
    "            return self.data\n",
    "        \n",
    "        def __str__(self):\n",
    "            return str(self.data)\n",
    "    \n",
    "    def __init__(self):\n",
    "        self.columns = dict()\n",
    "        \n",
    "    def destruct(self):\n",
    "        self.columns = dict()\n",
    "        \n",
    "    def __from_dict__(given_dict):\n",
    "        assert isinstance(given_dict, dict)\n",
    "        res = Table()\n",
    "        res.columns = given_dict\n",
    "        return res\n",
    "        \n",
    "    def __fullfill_list_list__(l):\n",
    "        m = max([len(x) for x in l])\n",
    "        for i in range(len(l)):\n",
    "            l[i].extend([None for _ in range(m-len(l[i]))])\n",
    "        return l\n",
    "        \n",
    "    def fromList(self, given_list, names=None):\n",
    "        self.destruct()\n",
    "        fullfilled = list(Table.__fullfill_list_list__(given_list))\n",
    "        transposed = list(map(list, zip(*fullfilled)))\n",
    "        \n",
    "#         print('fullfilled:', fullfilled)\n",
    "#         print('transposed:', transposed)\n",
    "        \n",
    "        if names is None:\n",
    "            names = [i for i in range(len(transposed))]\n",
    "        else:\n",
    "            assert len(names) == len(transposed)\n",
    "        \n",
    "        for l,name in zip(transposed, names):\n",
    "            self.columns[name] = Table.Column(l)\n",
    "        \n",
    "    def readFromFile(self, path, sep=',', col_names=None, header=True):\n",
    "        self.destruct()\n",
    "        l = []\n",
    "        names = None\n",
    "        \n",
    "        with open(path) as fp:\n",
    "            if header == True:\n",
    "                names = [s.rstrip() for s in fp.readline().split(sep)]\n",
    "#                 print(names)\n",
    "            if not col_names is None:\n",
    "                names = col_names\n",
    "            for line in fp:\n",
    "                splitted = line.split(sep)\n",
    "                cleared = [Table.process_str_value(s) for s in splitted]\n",
    "                l.append(cleared)\n",
    "#         print(names)        \n",
    "        self.fromList(l, names=names)\n",
    "    \n",
    "    def process_str_value(s):\n",
    "        s = s.rstrip()\n",
    "        if s == '':\n",
    "            return None\n",
    "        else:\n",
    "            return s\n",
    "            \n",
    "    def head(self, n=5):\n",
    "        res_dict = { name : col.data[:n] for name, col in self.columns.items()}\n",
    "        return Table.__from_dict__(res_dict)\n",
    "    \n",
    "    def tail(self, n=5):\n",
    "        res_dict = { name : col.data[-n:] for name, col in self.columns.items()}\n",
    "        return Table.__from_dict__(res_dict)\n",
    "    \n",
    "    def __getitem__(self, key):\n",
    "        if isinstance(key, Number):\n",
    "            # as index\n",
    "            k = list(self.columns.keys())[key]\n",
    "            return self.columns[k]\n",
    "        else:\n",
    "            return self.columns[key]\n",
    "    \n",
    "    def __str__(self):\n",
    "        s = \"\"\n",
    "        keys = list(self.columns.keys())\n",
    "        l = len(self.columns[keys[0]])\n",
    "#         print('start', l, self.columns[keys[0]])\n",
    "        \n",
    "        for key in keys:\n",
    "#             print(l, self.columns[key])\n",
    "            assert len(self.columns[key]) == l\n",
    "            s += (str(key) + ' ')\n",
    "        s += '\\n'\n",
    "        for _ in keys:\n",
    "            s += '__ '\n",
    "            \n",
    "        s += '\\n'\n",
    "        for i in range(l):\n",
    "            for key in keys:\n",
    "                s += str(self.columns[key][i]) + ' '\n",
    "            s += '\\n'\n",
    "            \n",
    "        return s\n",
    "    "
   ]
  },
  {
   "cell_type": "code",
   "execution_count": 10,
   "metadata": {},
   "outputs": [],
   "source": [
    "t = Table()\n",
    "# t.fromList(l, ['first', 'second', 'third'])\n",
    "t.readFromFile('input.txt', header=False)"
   ]
  },
  {
   "cell_type": "code",
   "execution_count": 11,
   "metadata": {
    "scrolled": true
   },
   "outputs": [
    {
     "name": "stdout",
     "output_type": "stream",
     "text": [
      "0 1 2 \n",
      "__ __ __ \n",
      "hello world again \n",
      "1 2 None \n",
      "0 3 5 \n",
      "2 None 5 \n",
      "\n"
     ]
    }
   ],
   "source": [
    "print(t)"
   ]
  },
  {
   "cell_type": "code",
   "execution_count": 12,
   "metadata": {},
   "outputs": [],
   "source": [
    "t.readFromFile('input.txt', header=True)"
   ]
  },
  {
   "cell_type": "code",
   "execution_count": 13,
   "metadata": {},
   "outputs": [
    {
     "name": "stdout",
     "output_type": "stream",
     "text": [
      "[None, '5', '5']\n"
     ]
    }
   ],
   "source": [
    "print(t['again'])"
   ]
  },
  {
   "cell_type": "code",
   "execution_count": 14,
   "metadata": {},
   "outputs": [
    {
     "name": "stdout",
     "output_type": "stream",
     "text": [
      "['2', '3', None]\n"
     ]
    }
   ],
   "source": [
    "print(t['world'])"
   ]
  },
  {
   "cell_type": "code",
   "execution_count": 15,
   "metadata": {},
   "outputs": [
    {
     "name": "stdout",
     "output_type": "stream",
     "text": [
      "hello world again \n",
      "__ __ __ \n",
      "1 2 None \n",
      "0 3 5 \n",
      "\n",
      "hello world again \n",
      "__ __ __ \n",
      "0 3 5 \n",
      "2 None 5 \n",
      "\n"
     ]
    }
   ],
   "source": [
    "print(t.head(2))\n",
    "print(t.tail(2))"
   ]
  },
  {
   "cell_type": "code",
   "execution_count": 16,
   "metadata": {},
   "outputs": [
    {
     "name": "stdout",
     "output_type": "stream",
     "text": [
      "['0', '2', '1']\n",
      "['5', None]\n",
      "3\n",
      "2\n"
     ]
    }
   ],
   "source": [
    "print(t['hello'].unique())\n",
    "print(t['again'].unique())\n",
    "print(t['hello'].count())\n",
    "print(t['again'].count())"
   ]
  },
  {
   "cell_type": "markdown",
   "metadata": {},
   "source": [
    "## Часть 2. Вглубь sklearn (дополнительное задание)"
   ]
  },
  {
   "cell_type": "markdown",
   "metadata": {},
   "source": [
    "#### BinaryBoosting (0.3 балла)\n",
    "Реализуйте двухклассовый бустинг с логистической функцией потерь. Вам предлагается ознакомится со структурой классов в sklearn.\n",
    "\n",
    "Теория для выполнения дз:\n",
    "* Hastie, The Elements of Statistical Learning, https://goo.gl/k3wfEU, 10 Boosting and Additive Trees 337\n",
    "* Соколов, Семинары по композиционным методам, https://goo.gl/sn8RyJ, http://goo.gl/ajNTQy\n",
    "\n",
    "P. S. Кому интересно, полное задание части 2 лежит <a href=\"https://github.com/ml-mipt/ml-mipt-part2/blob/master/2016/home_works/hw02_boosting_xgb/task2.ipynb\">тут</a>. Обязательной частью является только то, что приведено здесь."
   ]
  },
  {
   "cell_type": "code",
   "execution_count": 17,
   "metadata": {},
   "outputs": [
    {
     "ename": "SyntaxError",
     "evalue": "invalid syntax (<ipython-input-17-97442759de50>, line 22)",
     "output_type": "error",
     "traceback": [
      "\u001b[0;36m  File \u001b[0;32m\"<ipython-input-17-97442759de50>\"\u001b[0;36m, line \u001b[0;32m22\u001b[0m\n\u001b[0;31m    estimator = <your code here>\u001b[0m\n\u001b[0m                ^\u001b[0m\n\u001b[0;31mSyntaxError\u001b[0m\u001b[0;31m:\u001b[0m invalid syntax\n"
     ]
    }
   ],
   "source": [
    "from sklearn.tree import DecisionTreeRegressor\n",
    "from sklearn.cross_validation import cross_val_score\n",
    "from sklearn.base import ClassifierMixin, BaseEstimator\n",
    "from sklearn.ensemble import GradientBoostingClassifier\n",
    "\n",
    "\n",
    "class BinaryBoostingClassifier(BaseEstimator, ClassifierMixin):\n",
    "    def __init__(self, n_estimators, lr=0.1):\n",
    "        self.lr = lr   \n",
    "        self.n_estimators = n_estimators\n",
    "\n",
    "    def loss_grad(self, original_y, pred_y):\n",
    "        return # Градиент на кажом объекте\n",
    "\n",
    "    def fit(self, X, original_y):\n",
    "        # Храните базовые алгоритмы тут\n",
    "        self.estimators_ = [] \n",
    "\n",
    "        for i in range(self.n_estimators):\n",
    "            grad = self.loss_grad(original_y, self._predict(X))\n",
    "            # Настройте базовый алгоритм на градиент\n",
    "            estimator = <your code here>\n",
    "            self.estimators_.append(estimator)\n",
    "\n",
    "        self.out_ = self.outliers(grad)\n",
    "\n",
    "        return self\n",
    "\n",
    "    def _predict(self, X):\n",
    "        y_pred = <Получите ответ композиции до применения решающего правила>\n",
    "        return y_pred\n",
    "    \n",
    "    def predict(self, X):\n",
    "        y_pred = <примените к self._predict решающее правило>\n",
    "        return y_pred\n",
    "    \n",
    "    def outliers(self, grad):\n",
    "        return # Топ-10 объектов с большим отступом"
   ]
  },
  {
   "cell_type": "markdown",
   "metadata": {},
   "source": [
    "Сравните с классификатором из sklearn на датасете:\n",
    "    https://archive.ics.uci.edu/ml/machine-learning-databases/adult/adult.data.\n",
    "\n",
    "Кросс-валидацию разрешается осуществлять только с помощью функции cross_val_score для обоих классификаторов (вашего и из библиотеки)."
   ]
  }
 ],
 "metadata": {
  "kernelspec": {
   "display_name": "Python 3.6",
   "language": "python",
   "name": "python3"
  },
  "language_info": {
   "codemirror_mode": {
    "name": "ipython",
    "version": 3
   },
   "file_extension": ".py",
   "mimetype": "text/x-python",
   "name": "python",
   "nbconvert_exporter": "python",
   "pygments_lexer": "ipython3",
   "version": "3.6.4"
  }
 },
 "nbformat": 4,
 "nbformat_minor": 2
}
