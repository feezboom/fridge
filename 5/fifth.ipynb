{
 "cells": [
  {
   "cell_type": "markdown",
   "metadata": {},
   "source": [
    "# Задание 5"
   ]
  },
  {
   "cell_type": "markdown",
   "metadata": {},
   "source": [
    "## 1. ContextTimer(0.3 балла)\n",
    "Напишите менеджер контекста, который позволит засекать время выполнения блока кода с помощью конструкции with и выводить это время на экран по выходу из блока. Пример использования:\n",
    "\n",
    "<code>\n",
    "with Timer ():\n",
    "    do_some_long_stuff()\n",
    "</code>\n",
    "\n",
    "Рекомендации: используйте стандартную библиотеку для работы со временем.\n",
    "\n",
    "Протестируйте себя."
   ]
  },
  {
   "cell_type": "code",
   "execution_count": 1,
   "metadata": {},
   "outputs": [],
   "source": [
    "from time import time\n",
    "\n",
    "class Timer:\n",
    "    def __init__(self):\n",
    "        self.start = None\n",
    "        \n",
    "    def __enter__(self):\n",
    "        self.start = time()\n",
    "        \n",
    "    def __exit__(self, type, value, traceback):\n",
    "        end = time()\n",
    "        print('Time elapsed {}s'.format(end-self.start))"
   ]
  },
  {
   "cell_type": "code",
   "execution_count": 2,
   "metadata": {},
   "outputs": [
    {
     "name": "stdout",
     "output_type": "stream",
     "text": [
      "Time elapsed 5.560242176055908s\n"
     ]
    }
   ],
   "source": [
    "import wget\n",
    "\n",
    "with Timer():\n",
    "    URL = 'https://ia800303.us.archive.org/10/items/007474/007474_512kb.mp4'\n",
    "    wget.download(URL, out='The-Fifth-Element-(1997).mpeg')"
   ]
  },
  {
   "cell_type": "code",
   "execution_count": 3,
   "metadata": {},
   "outputs": [
    {
     "name": "stdout",
     "output_type": "stream",
     "text": [
      "Hello\n",
      "Time elapsed 6.175041198730469e-05s\n"
     ]
    }
   ],
   "source": [
    "with Timer():\n",
    "    print('Hello')"
   ]
  },
  {
   "cell_type": "markdown",
   "metadata": {},
   "source": [
    "## 2.Transaction (0.4 балла)\n",
    "Вам необходимо написать менеджер контекстов, который позволит безопасно работать с транзакциями. Напишите класс Storage, в котором будут храниться какие-то данные в виде словаря. Эти данные должны быть закрытыми и их можно только читать через операцию []. У этого класса должен быть метод edit, который возвращает менеджер контекста, позволяющий редактировать исходный объект (опять же через []). При этом результаты редактирования записываются в исходный объект только если весь блок выполнился успешно. Пример использования:\n",
    "\n",
    "<code>\n",
    "s = Storage()\n",
    "with s.edit() as se :\n",
    "    se[\"a\"] = 1\n",
    "    may_be_an_exception_here()\n",
    "</code>\n",
    "\n",
    "Протестируйте себя."
   ]
  },
  {
   "cell_type": "code",
   "execution_count": 4,
   "metadata": {},
   "outputs": [],
   "source": [
    "class Storage:\n",
    "    class ContextManager:\n",
    "        def __init__(self, storage):\n",
    "            self.storage = storage\n",
    "        \n",
    "        def __setitem__(self, key, value):\n",
    "            self.storage._data[key] = value\n",
    "            \n",
    "        def __enter__(self):\n",
    "            self.data_dict_copy = dict(self.storage._data)\n",
    "            return self.storage._data\n",
    "            \n",
    "        def __exit__(self, type_, value_, traceback_):\n",
    "            if (type_ is not None or value_ is not None or traceback_ is not None):\n",
    "                self.storage._data = self.data_dict_copy               \n",
    "            \n",
    "    def __init__(self):\n",
    "        self._data = {'key1': 'data1', 'key2': 'data2', 'key3': 'data3'}\n",
    "        self._context_manager = self.ContextManager(self)\n",
    "    \n",
    "    def __getitem__(self, key):\n",
    "        return self._data[key]\n",
    "    \n",
    "    def edit(self):\n",
    "        return self._context_manager"
   ]
  },
  {
   "cell_type": "code",
   "execution_count": 5,
   "metadata": {},
   "outputs": [
    {
     "name": "stdout",
     "output_type": "stream",
     "text": [
      "{'key1': 'data1', 'key2': 'data2', 'key3': 'data3', 'a': 'b'}\n"
     ]
    }
   ],
   "source": [
    "s = Storage()\n",
    "with s.edit() as se:\n",
    "    se['a'] = 'b'\n",
    "print(s._data)"
   ]
  },
  {
   "cell_type": "code",
   "execution_count": 6,
   "metadata": {},
   "outputs": [
    {
     "name": "stdout",
     "output_type": "stream",
     "text": [
      "{'key1': 'data1', 'key2': 'data2', 'key3': 'data3'}\n"
     ]
    }
   ],
   "source": [
    "s = Storage()\n",
    "try:\n",
    "    with s.edit() as se:\n",
    "        se['a'] = 'c'\n",
    "        raise NotImplementedError()\n",
    "except:\n",
    "    print(s._data)"
   ]
  },
  {
   "cell_type": "markdown",
   "metadata": {},
   "source": [
    "## Phone numbers (0.3)\n",
    "Напишите регулярное выражение для распознавания телефонных номеров и протестируйте себя. Номера, которые должны распознаваться:\n",
    "* 3-22-46\n",
    "* +71239513749\n",
    "* 71239513749\n",
    "* 1239513749\n",
    "* +7(123)-951-37-49\n",
    "* +7(123)9513749\n",
    "* +7-123-9513749\n",
    "* +7-123-951-37-49\n",
    "\n",
    "* 7(123)-951-37-49\n",
    "* 7(123)9513749\n",
    "* 7-123-9513749\n",
    "* 7-123-951-37-49\n",
    "\n",
    "* (123)-951-37-49\n",
    "* (123)9513749\n",
    "* 123-9513749\n",
    "* 123-951-37-49"
   ]
  },
  {
   "cell_type": "code",
   "execution_count": 7,
   "metadata": {},
   "outputs": [],
   "source": [
    "first = r'\\d{1,2}-\\d{1,2}-\\d{1,2}'\n",
    "second = r'(\\+7|7){0,1}-?((?=\\()\\(\\d{3}\\)|\\d{3})-?\\d{3}-?\\d{2}-?\\d{2}'\n",
    "pattern = r'^' + first + r'|' + second + r'$'"
   ]
  },
  {
   "cell_type": "code",
   "execution_count": 8,
   "metadata": {},
   "outputs": [
    {
     "data": {
      "text/plain": [
       "'^\\\\d{1,2}-\\\\d{1,2}-\\\\d{1,2}|(\\\\+7|7){0,1}-?((?=\\\\()\\\\(\\\\d{3}\\\\)|\\\\d{3})-?\\\\d{3}-?\\\\d{2}-?\\\\d{2}$'"
      ]
     },
     "execution_count": 8,
     "metadata": {},
     "output_type": "execute_result"
    }
   ],
   "source": [
    "pattern"
   ]
  },
  {
   "cell_type": "code",
   "execution_count": 9,
   "metadata": {},
   "outputs": [],
   "source": [
    "numbers = \"\"\"3-22-46\n",
    "+71239513749\n",
    "71239513749\n",
    "1239513749\n",
    "+7(123)-951-37-49\n",
    "+7(123)9513749\n",
    "+7-123-9513749\n",
    "+7-123-951-37-49\n",
    "7(123)-951-37-49\n",
    "7(123)9513749\n",
    "7-123-9513749\n",
    "7-123-951-37-49\n",
    "(123)-951-37-49\n",
    "(123)9513749\n",
    "123-9513749\n",
    "123-951-37-49\"\"\"\n",
    "\n",
    "numbers = numbers.split('\\n')"
   ]
  },
  {
   "cell_type": "code",
   "execution_count": 10,
   "metadata": {},
   "outputs": [
    {
     "data": {
      "text/plain": [
       "['3-22-46',\n",
       " '+71239513749',\n",
       " '71239513749',\n",
       " '1239513749',\n",
       " '+7(123)-951-37-49',\n",
       " '+7(123)9513749',\n",
       " '+7-123-9513749',\n",
       " '+7-123-951-37-49',\n",
       " '7(123)-951-37-49',\n",
       " '7(123)9513749',\n",
       " '7-123-9513749',\n",
       " '7-123-951-37-49',\n",
       " '(123)-951-37-49',\n",
       " '(123)9513749',\n",
       " '123-9513749',\n",
       " '123-951-37-49']"
      ]
     },
     "execution_count": 10,
     "metadata": {},
     "output_type": "execute_result"
    }
   ],
   "source": [
    "numbers"
   ]
  },
  {
   "cell_type": "code",
   "execution_count": 11,
   "metadata": {},
   "outputs": [],
   "source": [
    "import re\n",
    "regex = re.compile(pattern)"
   ]
  },
  {
   "cell_type": "code",
   "execution_count": 12,
   "metadata": {},
   "outputs": [
    {
     "name": "stdout",
     "output_type": "stream",
     "text": [
      "3-22-46 matches pattern\n",
      "+71239513749 matches pattern\n",
      "71239513749 matches pattern\n",
      "1239513749 matches pattern\n",
      "+7(123)-951-37-49 matches pattern\n",
      "+7(123)9513749 matches pattern\n",
      "+7-123-9513749 matches pattern\n",
      "+7-123-951-37-49 matches pattern\n",
      "7(123)-951-37-49 matches pattern\n",
      "7(123)9513749 matches pattern\n",
      "7-123-9513749 matches pattern\n",
      "7-123-951-37-49 matches pattern\n",
      "(123)-951-37-49 matches pattern\n",
      "(123)9513749 matches pattern\n",
      "123-9513749 matches pattern\n",
      "123-951-37-49 matches pattern\n"
     ]
    }
   ],
   "source": [
    "for phone in numbers:\n",
    "    if regex.match(phone):\n",
    "        print(phone, 'matches pattern')\n",
    "    else:\n",
    "        print(phone, \"doesn't matches pattern\")"
   ]
  }
 ],
 "metadata": {
  "kernelspec": {
   "display_name": "Python 3.6",
   "language": "python",
   "name": "python3"
  },
  "language_info": {
   "codemirror_mode": {
    "name": "ipython",
    "version": 3
   },
   "file_extension": ".py",
   "mimetype": "text/x-python",
   "name": "python",
   "nbconvert_exporter": "python",
   "pygments_lexer": "ipython3",
   "version": "3.6.4"
  }
 },
 "nbformat": 4,
 "nbformat_minor": 2
}
